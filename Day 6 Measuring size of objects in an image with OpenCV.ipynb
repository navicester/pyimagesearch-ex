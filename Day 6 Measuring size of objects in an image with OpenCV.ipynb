{
 "cells": [
  {
   "cell_type": "markdown",
   "id": "subjective-announcement",
   "metadata": {},
   "source": [
    "# Measuring size of objects in an image with OpenCV"
   ]
  },
  {
   "cell_type": "markdown",
   "id": "american-columbus",
   "metadata": {},
   "source": [
    "![](images/size_of_objects_example_02.gif)"
   ]
  },
  {
   "cell_type": "markdown",
   "id": "simplified-inspiration",
   "metadata": {},
   "source": [
    "Measuring the size of objects in an image is similar to [computing the distance from our camera to an object](https://pyimagesearch.com/2015/05/04/target-acquired-finding-targets-in-drone-and-quadcopter-video-streams-using-python-and-opencv/) — in both cases, we need to define a ratio that measures the number of pixels per a given metric.\n",
    "\n",
    "I call this the “pixels per metric” ratio, which I have more formally defined in the following section.\n",
    "\n",
    "## The “pixels per metric” ratio\n",
    "In order to determine the size of an object in an image, we first need to perform a “calibration” (not to be confused with [intrinsic/extrinsic calibration](http://www.cs.rutgers.edu/~elgammal/classes/cs534/lectures/Calibration.pdf) using a reference object. Our reference object should have two important properties:\n",
    "- Property #1: We should know the dimensions of this object (in terms of width or height) in a measurable unit (such as millimeters, inches, etc.).\n",
    "- Property #2: We should be able to easily find this reference object in an image, either based on the placement of the object (such as the reference object always being placed in the top-left corner of an image) or via appearances (like being a distinctive color or shape, unique and different from all other objects in the image). In either case, our reference should should be uniquely identifiable in some manner.\n",
    "\n",
    "In this example, we’ll be using the United States quarter as our reference object and throughout all examples, ensure it is always the left-most object in our image:\n",
    "\n",
    "![](images/size_of_objects_reference.jpg)\n",
    "\n",
    "Figure 1: We’ll use a United States quarter as our reference object and ensure it is always placed as the left-most object in the image, making it easy for us to extract it by sorting contours based on their location.\n",
    "\n",
    "By guaranteeing the quarter is the left-most object, we can sort our object contours from left-to-right, grab the quarter (which will always be the first contour in the sorted list), and use it to define our pixels_per_metric, which we define as:\n",
    "\n",
    "    *pixels_per_metric = object_width / know_width*\n",
    "\n",
    "A US quarter has a known_width of 0.955 inches. Now, suppose that our object_width (measured in pixels) is computed be 150 pixels wide (based on its associated bounding box).\n",
    "\n",
    "The *pixels_per_metric* is therefore:\n",
    "\n",
    "    *pixels_per_metric = 150px / 0.955in = 157px*\n",
    "\n",
    "Thus implying there are approximately 157 pixels per every 0.955 inches in our image. Using this ratio, we can compute the size of objects in an image.\n",
    "\n"
   ]
  },
  {
   "cell_type": "code",
   "execution_count": null,
   "id": "acting-lesbian",
   "metadata": {},
   "outputs": [],
   "source": []
  }
 ],
 "metadata": {
  "kernelspec": {
   "display_name": "Python 3",
   "language": "python",
   "name": "python3"
  },
  "language_info": {
   "codemirror_mode": {
    "name": "ipython",
    "version": 3
   },
   "file_extension": ".py",
   "mimetype": "text/x-python",
   "name": "python",
   "nbconvert_exporter": "python",
   "pygments_lexer": "ipython3",
   "version": "3.8.10"
  }
 },
 "nbformat": 4,
 "nbformat_minor": 5
}
