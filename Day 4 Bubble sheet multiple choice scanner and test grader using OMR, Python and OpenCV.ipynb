{
 "cells": [
  {
   "cell_type": "markdown",
   "id": "hired-duncan",
   "metadata": {},
   "source": [
    "# Bubble sheet multiple choice scanner and test grader using OMR, Python and OpenCV\n",
    "\n",
    "![](images/omr_result_05.jpg)"
   ]
  },
  {
   "cell_type": "code",
   "execution_count": null,
   "id": "sharing-christopher",
   "metadata": {},
   "outputs": [],
   "source": []
  }
 ],
 "metadata": {
  "kernelspec": {
   "display_name": "Python 3",
   "language": "python",
   "name": "python3"
  },
  "language_info": {
   "codemirror_mode": {
    "name": "ipython",
    "version": 3
   },
   "file_extension": ".py",
   "mimetype": "text/x-python",
   "name": "python",
   "nbconvert_exporter": "python",
   "pygments_lexer": "ipython3",
   "version": "3.8.8"
  }
 },
 "nbformat": 4,
 "nbformat_minor": 5
}
